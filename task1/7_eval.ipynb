{
 "cells": [
  {
   "cell_type": "code",
   "execution_count": null,
   "id": "eca2784f",
   "metadata": {},
   "outputs": [],
   "source": [
    "\"\"\"\n",
    "⣇⣿⠘⣿⣿⣿⡿⡿⣟⣟⢟⢟⢝⠵⡝⣿⡿⢂⣼⣿⣷⣌⠩⡫⡻⣝⠹⢿⣿⣷\n",
    "⡆⣿⣆⠱⣝⡵⣝⢅⠙⣿⢕⢕⢕⢕⢝⣥⢒⠅⣿⣿⣿⡿⣳⣌⠪⡪⣡⢑⢝⣇\n",
    "⡆⣿⣿⣦⠹⣳⣳⣕⢅⠈⢗⢕⢕⢕⢕⢕⢈⢆⠟⠋⠉⠁⠉⠉⠁⠈⠼⢐⢕⢽\n",
    "⡗⢰⣶⣶⣦⣝⢝⢕⢕⠅⡆⢕⢕⢕⢕⢕⣴⠏⣠⡶⠛⡉⡉⡛⢶⣦⡀⠐⣕⢕\n",
    "⡝⡄⢻⢟⣿⣿⣷⣕⣕⣅⣿⣔⣕⣵⣵⣿⣿⢠⣿⢠⣮⡈⣌⠨⠅⠹⣷⡀⢱⢕\n",
    "⡝⡵⠟⠈⢀⣀⣀⡀⠉⢿⣿⣿⣿⣿⣿⣿⣿⣼⣿⢈⡋⠴⢿⡟⣡⡇⣿⡇⡀⢕\n",
    "⡝⠁⣠⣾⠟⡉⡉⡉⠻⣦⣻⣿⣿⣿⣿⣿⣿⣿⣿⣧⠸⣿⣦⣥⣿⡇⡿⣰⢗⢄\n",
    "⠁⢰⣿⡏⣴⣌⠈⣌⠡⠈⢻⣿⣿⣿⣿⣿⣿⣿⣿⣿⣿⣬⣉⣉⣁⣄⢖⢕⢕⢕\n",
    "⡀⢻⣿⡇⢙⠁⠴⢿⡟⣡⡆⣿⣿⣿⣿⣿⣿⣿⣿⣿⣿⣿⣿⣿⣿⣿⣷⣵⣵⣿\n",
    "⡻⣄⣻⣿⣌⠘⢿⣷⣥⣿⠇⣿⣿⣿⣿⣿⣿⠛⠻⣿⣿⣿⣿⣿⣿⣿⣿⣿⣿⣿\n",
    "⣷⢄⠻⣿⣟⠿⠦⠍⠉⣡⣾⣿⣿⣿⣿⣿⣿⢸⣿⣦⠙⣿⣿⣿⣿⣿⣿⣿⣿⠟\n",
    "⡕⡑⣑⣈⣻⢗⢟⢞⢝⣻⣿⣿⣿⣿⣿⣿⣿⠸⣿⠿⠃⣿⣿⣿⣿⣿⣿⡿⠁⣠\n",
    "⡝⡵⡈⢟⢕⢕⢕⢕⣵⣿⣿⣿⣿⣿⣿⣿⣿⣿⣶⣶⣿⣿⣿⣿⣿⠿⠋⣀⣈⠙\n",
    "⡝⡵⡕⡀⠑⠳⠿⣿⣿⣿⣿⣿⣿⣿⣿⣿⣿⣿⣿⣿⣿⠿⠛⢉⡠⡲⡫⡪⡪⡣\n",
    "\"\"\"\n",
    "import json\n",
    "from sklearn.metrics import f1_score\n",
    "with open(\"output/6_final_final.json\", \"r\", encoding=\"utf-8\") as f:\n",
    "    data = json.load(f)\n",
    "\n",
    "y_pred = [item[\"prediction\"][0] for item in data]\n",
    "y_true = [item[\"correct_choice\"] for item in data]\n",
    "\n",
    "TP = sum(1 for p, t in zip(y_pred, y_true) if p == t)\n",
    "FP = sum(1 for p, t in zip(y_pred, y_true) if p != t)\n",
    "FN = FP  \n",
    "\n",
    "\n",
    "P = TP / (TP + FP) if TP + FP > 0 else 0\n",
    "R = TP / (TP + FN) if TP + FN > 0 else 0\n",
    "F1 = 2 * P * R / (P + R) if P + R > 0 else 0\n",
    "\n",
    "print(f\"TP={TP}, FP={FP}, FN={FN}\")\n",
    "print(f\"Precision={P:.4f}, Recall={R:.4f}, F1={F1:.4f}\")\n",
    "\n",
    "micro_f1 = f1_score(y_true, y_pred, average=\"micro\")\n",
    "print(f\"Micro-F1: {micro_f1:.4f}\")\n",
    "\n",
    "# 3) Accuracy を手動計算\n",
    "correct_count = sum(1 for p, t in zip(y_pred, y_true) if p == t)\n",
    "total_count   = len(y_true)\n",
    "accuracy = correct_count / total_count if total_count > 0 else 0\n",
    "\n",
    "print(f\"Accuracy: {accuracy:.4f}  ({correct_count}/{total_count})\")\n"
   ]
  }
 ],
 "metadata": {
  "language_info": {
   "name": "python"
  }
 },
 "nbformat": 4,
 "nbformat_minor": 5
}
